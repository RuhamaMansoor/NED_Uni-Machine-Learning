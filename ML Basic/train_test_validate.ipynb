{
 "cells": [
  {
   "cell_type": "code",
   "execution_count": 1,
   "metadata": {},
   "outputs": [],
   "source": [
    "import pandas as pd"
   ]
  },
  {
   "cell_type": "code",
   "execution_count": 3,
   "metadata": {},
   "outputs": [
    {
     "data": {
      "text/html": [
       "<div>\n",
       "<style scoped>\n",
       "    .dataframe tbody tr th:only-of-type {\n",
       "        vertical-align: middle;\n",
       "    }\n",
       "\n",
       "    .dataframe tbody tr th {\n",
       "        vertical-align: top;\n",
       "    }\n",
       "\n",
       "    .dataframe thead th {\n",
       "        text-align: right;\n",
       "    }\n",
       "</style>\n",
       "<table border=\"1\" class=\"dataframe\">\n",
       "  <thead>\n",
       "    <tr style=\"text-align: right;\">\n",
       "      <th></th>\n",
       "      <th>input</th>\n",
       "      <th>output</th>\n",
       "    </tr>\n",
       "  </thead>\n",
       "  <tbody>\n",
       "    <tr>\n",
       "      <th>0</th>\n",
       "      <td>1</td>\n",
       "      <td>2</td>\n",
       "    </tr>\n",
       "    <tr>\n",
       "      <th>1</th>\n",
       "      <td>2</td>\n",
       "      <td>4</td>\n",
       "    </tr>\n",
       "    <tr>\n",
       "      <th>2</th>\n",
       "      <td>3</td>\n",
       "      <td>6</td>\n",
       "    </tr>\n",
       "    <tr>\n",
       "      <th>3</th>\n",
       "      <td>4</td>\n",
       "      <td>8</td>\n",
       "    </tr>\n",
       "    <tr>\n",
       "      <th>4</th>\n",
       "      <td>5</td>\n",
       "      <td>10</td>\n",
       "    </tr>\n",
       "  </tbody>\n",
       "</table>\n",
       "</div>"
      ],
      "text/plain": [
       "   input  output\n",
       "0      1       2\n",
       "1      2       4\n",
       "2      3       6\n",
       "3      4       8\n",
       "4      5      10"
      ]
     },
     "execution_count": 3,
     "metadata": {},
     "output_type": "execute_result"
    }
   ],
   "source": [
    "data = pd.read_excel(\"data.xlsx\",\n",
    "                    usecols=[\"input\",\"output\"])\n",
    "data.head(5)"
   ]
  },
  {
   "cell_type": "code",
   "execution_count": 4,
   "metadata": {},
   "outputs": [
    {
     "name": "stdout",
     "output_type": "stream",
     "text": [
      "[ 1  2  3  4  5  6  7  8  9 10]\n",
      "[ 2  4  6  8 10 12 14 16 18 20]\n"
     ]
    }
   ],
   "source": [
    "X, Y = data.input.values , data.output.values\n",
    "print(X)\n",
    "print(Y)"
   ]
  },
  {
   "cell_type": "code",
   "execution_count": 5,
   "metadata": {},
   "outputs": [],
   "source": [
    "training_ratio = 80"
   ]
  },
  {
   "cell_type": "code",
   "execution_count": 6,
   "metadata": {},
   "outputs": [
    {
     "name": "stdout",
     "output_type": "stream",
     "text": [
      "Training Ratio, get index 8\n"
     ]
    }
   ],
   "source": [
    "print(\"Training Ratio, get index\", int(len(data)*training_ratio/100))"
   ]
  },
  {
   "cell_type": "code",
   "execution_count": 8,
   "metadata": {},
   "outputs": [
    {
     "name": "stdout",
     "output_type": "stream",
     "text": [
      "Training X: [1 2 3 4 5 6 7 8] Y: [ 2  4  6  8 10 12 14 16]\n",
      "Testing X [ 9 10] Y [18 20]\n"
     ]
    }
   ],
   "source": [
    "X_train = X[ :int(len(data)*training_ratio/100)]#start-7index-1\n",
    "Y_train = Y[ :int(len(data)*training_ratio/100)]#start-7index-1\n",
    "\n",
    "\n",
    "X_test = X[int(len(data)*training_ratio/100): ]#7index - endindex\n",
    "Y_test = Y[int(len(data)*training_ratio/100): ]#7index - endindex\n",
    "\n",
    "print(\"Training X:\",X_train,\"Y:\",Y_train)\n",
    "print(\"Testing X\",X_test,\"Y\",Y_test)"
   ]
  },
  {
   "cell_type": "markdown",
   "metadata": {},
   "source": [
    "# data spliting for ML model (Ratio)\n",
    "* 70% for training 30% for testing\n",
    "* 80% for training 20% for testing\n",
    "* 60% for training 40% for testing\n",
    "\n",
    "* 60% for training, 20% validation, 20% for Testing\n"
   ]
  },
  {
   "cell_type": "markdown",
   "metadata": {},
   "source": [
    "# Train and test data distribution with sklearn library"
   ]
  },
  {
   "cell_type": "code",
   "execution_count": 9,
   "metadata": {},
   "outputs": [
    {
     "data": {
      "text/html": [
       "<div>\n",
       "<style scoped>\n",
       "    .dataframe tbody tr th:only-of-type {\n",
       "        vertical-align: middle;\n",
       "    }\n",
       "\n",
       "    .dataframe tbody tr th {\n",
       "        vertical-align: top;\n",
       "    }\n",
       "\n",
       "    .dataframe thead th {\n",
       "        text-align: right;\n",
       "    }\n",
       "</style>\n",
       "<table border=\"1\" class=\"dataframe\">\n",
       "  <thead>\n",
       "    <tr style=\"text-align: right;\">\n",
       "      <th></th>\n",
       "      <th>input</th>\n",
       "      <th>output</th>\n",
       "    </tr>\n",
       "  </thead>\n",
       "  <tbody>\n",
       "    <tr>\n",
       "      <th>0</th>\n",
       "      <td>1</td>\n",
       "      <td>2</td>\n",
       "    </tr>\n",
       "    <tr>\n",
       "      <th>1</th>\n",
       "      <td>2</td>\n",
       "      <td>4</td>\n",
       "    </tr>\n",
       "    <tr>\n",
       "      <th>2</th>\n",
       "      <td>3</td>\n",
       "      <td>6</td>\n",
       "    </tr>\n",
       "    <tr>\n",
       "      <th>3</th>\n",
       "      <td>4</td>\n",
       "      <td>8</td>\n",
       "    </tr>\n",
       "    <tr>\n",
       "      <th>4</th>\n",
       "      <td>5</td>\n",
       "      <td>10</td>\n",
       "    </tr>\n",
       "  </tbody>\n",
       "</table>\n",
       "</div>"
      ],
      "text/plain": [
       "   input  output\n",
       "0      1       2\n",
       "1      2       4\n",
       "2      3       6\n",
       "3      4       8\n",
       "4      5      10"
      ]
     },
     "execution_count": 9,
     "metadata": {},
     "output_type": "execute_result"
    }
   ],
   "source": [
    "data.head()"
   ]
  },
  {
   "cell_type": "code",
   "execution_count": 10,
   "metadata": {},
   "outputs": [
    {
     "data": {
      "text/plain": [
       "array([ 1,  2,  3,  4,  5,  6,  7,  8,  9, 10], dtype=int64)"
      ]
     },
     "execution_count": 10,
     "metadata": {},
     "output_type": "execute_result"
    }
   ],
   "source": [
    "X = data['input'].values\n",
    "Y = data['output'].values\n",
    "\n",
    "X"
   ]
  },
  {
   "cell_type": "code",
   "execution_count": 11,
   "metadata": {},
   "outputs": [
    {
     "data": {
      "text/plain": [
       "array([ 2,  4,  6,  8, 10, 12, 14, 16, 18, 20], dtype=int64)"
      ]
     },
     "execution_count": 11,
     "metadata": {},
     "output_type": "execute_result"
    }
   ],
   "source": [
    "Y"
   ]
  },
  {
   "cell_type": "code",
   "execution_count": 12,
   "metadata": {},
   "outputs": [],
   "source": [
    "from sklearn.model_selection import train_test_split"
   ]
  },
  {
   "cell_type": "code",
   "execution_count": 13,
   "metadata": {},
   "outputs": [
    {
     "data": {
      "text/plain": [
       "[array([ 6,  4,  9,  3, 10,  1,  7], dtype=int64),\n",
       " array([5, 8, 2], dtype=int64),\n",
       " array([12,  8, 18,  6, 20,  2, 14], dtype=int64),\n",
       " array([10, 16,  4], dtype=int64)]"
      ]
     },
     "execution_count": 13,
     "metadata": {},
     "output_type": "execute_result"
    }
   ],
   "source": [
    "train_test_split(X,Y,\n",
    "                test_size=0.3)"
   ]
  },
  {
   "cell_type": "code",
   "execution_count": 14,
   "metadata": {},
   "outputs": [
    {
     "data": {
      "text/plain": [
       "[array([1, 2, 3, 4, 5, 6, 7], dtype=int64),\n",
       " array([ 8,  9, 10], dtype=int64),\n",
       " array([ 2,  4,  6,  8, 10, 12, 14], dtype=int64),\n",
       " array([16, 18, 20], dtype=int64)]"
      ]
     },
     "execution_count": 14,
     "metadata": {},
     "output_type": "execute_result"
    }
   ],
   "source": [
    "train_test_split(X,Y,\n",
    "                test_size=0.3, shuffle=False)"
   ]
  },
  {
   "cell_type": "code",
   "execution_count": 15,
   "metadata": {},
   "outputs": [
    {
     "name": "stdout",
     "output_type": "stream",
     "text": [
      "[1 2 3 4 5 6 7]\n",
      "[ 8  9 10]\n",
      "[ 2  4  6  8 10 12 14]\n",
      "[16 18 20]\n"
     ]
    }
   ],
   "source": [
    "X_train, X_test, Y_train, Y_test = train_test_split(X,Y,\n",
    "                                                    test_size=0.3, \n",
    "                                                    shuffle=False)\n",
    "\n",
    "print(X_train)\n",
    "print(X_test)\n",
    "print(Y_train)\n",
    "print(Y_test)"
   ]
  },
  {
   "cell_type": "code",
   "execution_count": 16,
   "metadata": {},
   "outputs": [
    {
     "name": "stdout",
     "output_type": "stream",
     "text": [
      "[10  2  5  9  1  4  6]\n",
      "[8 7 3]\n",
      "[20  4 10 18  2  8 12]\n",
      "[16 14  6]\n"
     ]
    }
   ],
   "source": [
    "X_train, X_test, Y_train, Y_test = train_test_split(X,Y,\n",
    "                                                    test_size=0.3, \n",
    "                                                    shuffle=True)\n",
    "\n",
    "print(X_train)\n",
    "print(X_test)\n",
    "print(Y_train)\n",
    "print(Y_test)"
   ]
  },
  {
   "cell_type": "markdown",
   "metadata": {},
   "source": [
    "## K Fold cros validation (Home work)"
   ]
  },
  {
   "cell_type": "markdown",
   "metadata": {},
   "source": [
    "### Cross Validation:\n",
    "When adjusting models we are aiming to increase overall model performance on unseen data. Hyperparameter tuning can lead to much better performance on test sets. However, optimizing parameters to the test set can lead information leakage causing the model to preform worse on unseen data. To correct for this we can perform cross validation.\n",
    "\n",
    "To better understand CV, we will be performing different methods on the iris dataset. Let us first load in and separate the data.\n",
    "\n",
    "from sklearn import datasets\n",
    "\n",
    "X, y = datasets.load_iris(return_X_y=True)\n",
    "\n",
    "There are many methods to cross validation, we will start by looking at k-fold cross validation.\n",
    "\n",
    "### K-Fold :\n",
    "The training data used in the model is split, into k number of smaller sets, to be used to validate the model. The model is then trained on k-1 folds of training set. The remaining fold is then used as a validation set to evaluate the model.\n",
    "\n",
    "As we will be trying to classify different species of iris flowers we will need to import a classifier model, for this exercise we will be using a DecisionTreeClassifier. We will also need to import CV modules from sklearn.\n",
    "\n",
    "from sklearn.tree import DecisionTreeClassifier\n",
    "from sklearn.model_selection import KFold, cross_val_score\n",
    "\n",
    "With the data loaded we can now create and fit a model for evaluation.\n",
    "\n",
    "clf = DecisionTreeClassifier(random_state=42)\n",
    "\n",
    "Now let's evaluate our model and see how it performs on each k-fold.\n",
    "\n",
    "k_folds = KFold(n_splits = 5)\n",
    "\n",
    "scores = cross_val_score(clf, X, y, cv = k_folds)\n",
    "\n",
    "It is also good pratice to see how CV performed overall by averaging the scores for all folds."
   ]
  },
  {
   "cell_type": "code",
   "execution_count": 17,
   "metadata": {},
   "outputs": [
    {
     "name": "stdout",
     "output_type": "stream",
     "text": [
      "Cross Validation Scores:  [1.  1.  1.  1.  1.  1.  1.  1.  1.  1.  1.  0.8 1.  1.  0.8 0.8 0.8 1.\n",
      " 1.  1.  1.  0.8 1.  0.8 1.  0.8 0.6 0.8 1.  1. ]\n",
      "Average CV Score:  0.9333333333333333\n",
      "Number of CV Scores used in Average:  30\n"
     ]
    }
   ],
   "source": [
    "from sklearn import datasets\n",
    "from sklearn.tree import DecisionTreeClassifier\n",
    "from sklearn.model_selection import KFold, cross_val_score\n",
    "\n",
    "X, y = datasets.load_iris(return_X_y=True)\n",
    "\n",
    "clf = DecisionTreeClassifier(random_state=42)\n",
    "\n",
    "k_folds = KFold(n_splits = 30)\n",
    "\n",
    "scores = cross_val_score(clf, X, y, cv = k_folds)\n",
    "\n",
    "print(\"Cross Validation Scores: \", scores)\n",
    "print(\"Average CV Score: \", scores.mean())\n",
    "print(\"Number of CV Scores used in Average: \", len(scores))"
   ]
  },
  {
   "cell_type": "code",
   "execution_count": 18,
   "metadata": {},
   "outputs": [
    {
     "name": "stdout",
     "output_type": "stream",
     "text": [
      "20\n"
     ]
    }
   ],
   "source": [
    "import re\n",
    "\n",
    "x = \"\"\"\n",
    "You4:40 PM\n",
    "i'm audio able or not?\n",
    "Syed Zaim Nazir4:41 PM\n",
    "probably you can't hear us\n",
    "Muhammad Fahad4:41 PM\n",
    "yes\n",
    "clearly\n",
    "Kenneth Fahad4:41 PM\n",
    "we can hear you\n",
    "Madiha Obaid Obaid4:42 PM\n",
    "screen share?\n",
    "You4:44 PM\n",
    "https://github.com/EnggQasim/PIAIC_ISLAMABAD_BATCH3/blob/master/9%20to%2012/python/class9(File%20Handling)/File%20Handling.ipynb\n",
    "Syed Umair Ahmed5:20 PM\n",
    "Sir 10 minutes ka break deden Namaz ka time\n",
    "Syed Umair Ahmed6:17 PM\n",
    "okay sir\n",
    "You6:31 PM\n",
    "https://github.com/EnggQasim/PGD_Batch2_Machine_Learning\n",
    "Kenneth Fahad6:31 PM\n",
    "33105-4159733-1\n",
    "Syed Sajjad Ali Shah6:31 PM\n",
    "1510120026221\n",
    "Bilal Uddin6:31 PM\n",
    "4220122191357\n",
    "Amna Shahid6:31 PM\n",
    "34603-4824275-6\n",
    "MUSTAFA NADIMI6:31 PM\n",
    "5440053241639\n",
    "Muneeb Abdul Rauf6:31 PM\n",
    "42301-8154478-7\n",
    "Zoya Ansari6:31 PM\n",
    "4220186465696\n",
    "TARIQ JAMIL6:31 PM\n",
    "4250182298545\n",
    "Muhammad Fahad6:32 PM\n",
    "Muhammad Fahad (CNIC 4210117498405)\n",
    "Madiha Obaid Obaid6:32 PM\n",
    "4220105920780\n",
    "Syed Mohammad Asad Asad6:32 PM\n",
    "42401-8056136-5\n",
    "Syed Zaim Nazir6:32 PM\n",
    "4220171026219\n",
    "Rizwan Ali6:32 PM\n",
    "4230174256393\n",
    "Syed Umair Ahmed6:32 PM\n",
    "Syed Umair Ahmed\n",
    "CNIC: 41304-8519667-3\n",
    "Syed Abbas Abbas6:32 PM\n",
    "4200034578253\n",
    "syed daniyal6:32 PM\n",
    "4250189782769\n",
    "Farrukh Jalil6:32 PM\n",
    "Farrukh Jalil\n",
    "CNIC: 42101-1397876-3\n",
    "Mustafa6:32 PM\n",
    "4220106546787\n",
    "Nadir Ali6:32 PM\n",
    "4130311530273\n",
    "mustafa zaidi6:33 PM\n",
    "Maria Mustafa\n",
    "4200068281176\n",
    "Syed Umair Ahmed6:33 PM\n",
    "Nadir bhai bolo na\n",
    "mcc-qjtf-rix\n",
    "\"\"\"\n",
    "x = x.replace('-','')\n",
    "\n",
    "cnic = list(set(re.findall(r\"\\b\\d{13}\\b\",x)))\n",
    "print(len(cnic))"
   ]
  },
  {
   "cell_type": "code",
   "execution_count": 19,
   "metadata": {},
   "outputs": [
    {
     "data": {
      "text/html": [
       "<div>\n",
       "<style scoped>\n",
       "    .dataframe tbody tr th:only-of-type {\n",
       "        vertical-align: middle;\n",
       "    }\n",
       "\n",
       "    .dataframe tbody tr th {\n",
       "        vertical-align: top;\n",
       "    }\n",
       "\n",
       "    .dataframe thead th {\n",
       "        text-align: right;\n",
       "    }\n",
       "</style>\n",
       "<table border=\"1\" class=\"dataframe\">\n",
       "  <thead>\n",
       "    <tr style=\"text-align: right;\">\n",
       "      <th></th>\n",
       "      <th>CNIC</th>\n",
       "    </tr>\n",
       "  </thead>\n",
       "  <tbody>\n",
       "    <tr>\n",
       "      <th>0</th>\n",
       "      <td>1510120026221</td>\n",
       "    </tr>\n",
       "    <tr>\n",
       "      <th>1</th>\n",
       "      <td>4200034578253</td>\n",
       "    </tr>\n",
       "    <tr>\n",
       "      <th>2</th>\n",
       "      <td>4200068281176</td>\n",
       "    </tr>\n",
       "    <tr>\n",
       "      <th>3</th>\n",
       "      <td>3310541597331</td>\n",
       "    </tr>\n",
       "    <tr>\n",
       "      <th>4</th>\n",
       "      <td>4210113978763</td>\n",
       "    </tr>\n",
       "    <tr>\n",
       "      <th>5</th>\n",
       "      <td>5440053241639</td>\n",
       "    </tr>\n",
       "    <tr>\n",
       "      <th>6</th>\n",
       "      <td>4210117498405</td>\n",
       "    </tr>\n",
       "    <tr>\n",
       "      <th>7</th>\n",
       "      <td>4220106546787</td>\n",
       "    </tr>\n",
       "    <tr>\n",
       "      <th>8</th>\n",
       "      <td>4230181544787</td>\n",
       "    </tr>\n",
       "    <tr>\n",
       "      <th>9</th>\n",
       "      <td>4250189782769</td>\n",
       "    </tr>\n",
       "    <tr>\n",
       "      <th>10</th>\n",
       "      <td>4230174256393</td>\n",
       "    </tr>\n",
       "    <tr>\n",
       "      <th>11</th>\n",
       "      <td>4250182298545</td>\n",
       "    </tr>\n",
       "    <tr>\n",
       "      <th>12</th>\n",
       "      <td>4130485196673</td>\n",
       "    </tr>\n",
       "    <tr>\n",
       "      <th>13</th>\n",
       "      <td>4220186465696</td>\n",
       "    </tr>\n",
       "    <tr>\n",
       "      <th>14</th>\n",
       "      <td>4240180561365</td>\n",
       "    </tr>\n",
       "    <tr>\n",
       "      <th>15</th>\n",
       "      <td>4220171026219</td>\n",
       "    </tr>\n",
       "    <tr>\n",
       "      <th>16</th>\n",
       "      <td>4130311530273</td>\n",
       "    </tr>\n",
       "    <tr>\n",
       "      <th>17</th>\n",
       "      <td>4220105920780</td>\n",
       "    </tr>\n",
       "    <tr>\n",
       "      <th>18</th>\n",
       "      <td>3460348242756</td>\n",
       "    </tr>\n",
       "    <tr>\n",
       "      <th>19</th>\n",
       "      <td>4220122191357</td>\n",
       "    </tr>\n",
       "  </tbody>\n",
       "</table>\n",
       "</div>"
      ],
      "text/plain": [
       "             CNIC\n",
       "0   1510120026221\n",
       "1   4200034578253\n",
       "2   4200068281176\n",
       "3   3310541597331\n",
       "4   4210113978763\n",
       "5   5440053241639\n",
       "6   4210117498405\n",
       "7   4220106546787\n",
       "8   4230181544787\n",
       "9   4250189782769\n",
       "10  4230174256393\n",
       "11  4250182298545\n",
       "12  4130485196673\n",
       "13  4220186465696\n",
       "14  4240180561365\n",
       "15  4220171026219\n",
       "16  4130311530273\n",
       "17  4220105920780\n",
       "18  3460348242756\n",
       "19  4220122191357"
      ]
     },
     "execution_count": 19,
     "metadata": {},
     "output_type": "execute_result"
    }
   ],
   "source": [
    "df = pd.DataFrame(cnic, columns=[\"CNIC\"])\n",
    "df"
   ]
  }
 ],
 "metadata": {
  "kernelspec": {
   "display_name": "Python 3",
   "language": "python",
   "name": "python3"
  },
  "language_info": {
   "codemirror_mode": {
    "name": "ipython",
    "version": 3
   },
   "file_extension": ".py",
   "mimetype": "text/x-python",
   "name": "python",
   "nbconvert_exporter": "python",
   "pygments_lexer": "ipython3",
   "version": "3.11.5"
  }
 },
 "nbformat": 4,
 "nbformat_minor": 4
}
